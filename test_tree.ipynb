{
 "cells": [
  {
   "cell_type": "code",
   "execution_count": 5,
   "id": "c230b8fd",
   "metadata": {},
   "outputs": [
    {
     "data": {
      "application/vnd.vega.v5+json": {
       "$schema": "https://vega.github.io/schema/vega/v5.json",
       "data": [
        {
         "name": "tree",
         "transform": [
          {
           "key": "id",
           "parentKey": "parent",
           "type": "stratify"
          },
          {
           "as": [
            "y",
            "x",
            "depth",
            "children"
           ],
           "method": {
            "signal": "layout"
           },
           "separation": {
            "signal": "separation"
           },
           "size": [
            {
             "signal": "height"
            },
            {
             "signal": "width - 100"
            }
           ],
           "type": "tree"
          }
         ],
         "values": [
          {
           "desc": "delayed onset of mitotic spindle microtubule nucleation from old spindle pole body",
           "id": 7428,
           "name": "delayed onset of mitotic spindle microtubule nucleation from old spindle pole body",
           "parent": 5692
          },
          {
           "desc": "abolished astral microtubule anchoring at mitotic spindle pole body",
           "id": 4623,
           "name": "abolished astral microtubule anchoring at mitotic spindle pole body",
           "parent": 54
          },
          {
           "desc": "abolished mitotic spindle assembly",
           "id": 1683,
           "name": "abolished mitotic spindle assembly",
           "parent": 177
          },
          {
           "desc": "spindle self-assembly during meiosis II",
           "id": 7850,
           "name": "spindle self-assembly during meiosis II",
           "parent": 7848
          },
          {
           "desc": "abolished mitotic spindle formation phase II",
           "id": 7754,
           "name": "abolished mitotic spindle formation phase II",
           "parent": 177
          },
          {
           "desc": "decreased rate of microtubule depolymerization at minus end",
           "id": 4721,
           "name": "decreased rate of microtubule depolymerization at minus end",
           "parent": 903
          },
          {
           "desc": "abnormal post-anaphase microtubule array organization",
           "id": 4625,
           "name": "abnormal post-anaphase microtubule array organization",
           "parent": 1350
          },
          {
           "desc": "abnormal microtubule depolymerization during vegetative growth",
           "id": 902,
           "name": "abnormal microtubule depolymerization during vegetative growth",
           "parent": 901
          },
          {
           "desc": "abnormal spindle disassembly",
           "id": 4620,
           "name": "abnormal spindle disassembly",
           "parent": 54
          },
          {
           "desc": "increased microtubule polymerization",
           "id": 6180,
           "name": "increased microtubule polymerization",
           "parent": 4614
          },
          {
           "desc": "decreased rate of microtubule polymerization",
           "id": 5703,
           "name": "decreased rate of microtubule polymerization",
           "parent": 4614
          },
          {
           "desc": "cytoplasmic microtubule formation from nuclear microtubules",
           "id": 4727,
           "name": "cytoplasmic microtubule formation from nuclear microtubules",
           "parent": 1350
          },
          {
           "desc": "increased rate of microtubule depolymerization at minus end",
           "id": 4617,
           "name": "increased rate of microtubule depolymerization at minus end",
           "parent": 3194
          },
          {
           "desc": "abnormal iMTOC assembly",
           "id": 6396,
           "name": "abnormal iMTOC assembly",
           "parent": 1350
          },
          {
           "desc": "decreased microtubule polymerization",
           "id": 5681,
           "name": "decreased microtubule polymerization",
           "parent": 4614
          },
          {
           "desc": "delayed onset of mitotic spindle assembly",
           "id": 4648,
           "name": "delayed onset of mitotic spindle assembly",
           "parent": 177
          },
          {
           "desc": "abnormal microtubule polymerization",
           "id": 4614,
           "name": "abnormal microtubule polymerization",
           "parent": 901
          },
          {
           "desc": "cytoplasmic microtubule formation from nuclear microtubules following nuclear envelope breakthrough",
           "id": 4728,
           "name": "cytoplasmic microtubule formation from nuclear microtubules following nuclear envelope breakthrough",
           "parent": 4727
          },
          {
           "desc": "decreased spatial extent of interphase microtubule polymerization",
           "id": 5463,
           "name": "decreased spatial extent of interphase microtubule polymerization",
           "parent": 4614
          },
          {
           "desc": "decreased interphase microtubule nucleation",
           "id": 5694,
           "name": "decreased interphase microtubule nucleation",
           "parent": 6335
          },
          {
           "desc": "decreased microtubule depolymerization during vegetative growth",
           "id": 5682,
           "name": "decreased microtubule depolymerization during vegetative growth",
           "parent": 902
          },
          {
           "desc": "abolished cytoplasmic microtubule nucleation from iMTOC",
           "id": 5696,
           "name": "abolished cytoplasmic microtubule nucleation from iMTOC",
           "parent": 4766
          },
          {
           "desc": "decreased mitotic spindle microtubule nucleation from spindle pole body",
           "id": 6593,
           "name": "decreased mitotic spindle microtubule nucleation from spindle pole body",
           "parent": 6336
          },
          {
           "desc": "abolished cytoplasmic interphase microtubule nucleation",
           "id": 4766,
           "name": "abolished cytoplasmic interphase microtubule nucleation",
           "parent": 234
          },
          {
           "desc": "abnormal microtubule polymerization or depolymerization during vegetative growth",
           "id": 901,
           "name": "abnormal microtubule polymerization or depolymerization during vegetative growth",
           "parent": 1350
          },
          {
           "desc": "abnormal mitotic spindle disassembly",
           "id": 4621,
           "name": "abnormal mitotic spindle disassembly",
           "parent": 4620
          },
          {
           "desc": "decreased microtubule polymerization or depolymerization",
           "id": 904,
           "name": "decreased microtubule polymerization or depolymerization",
           "parent": 1350
          },
          {
           "desc": "abolished meiotic spindle microtubule nucleation from new spindle pole body during meiosis II",
           "id": 7485,
           "name": "abolished meiotic spindle microtubule nucleation from new spindle pole body during meiosis II",
           "parent": 7484
          },
          {
           "desc": "meiotic spindle self-assembly",
           "id": 7848,
           "name": "meiotic spindle self-assembly",
           "parent": 737
          },
          {
           "desc": "decreased rate of cytoplasmic microtubule depolymerization",
           "id": 3190,
           "name": "decreased rate of cytoplasmic microtubule depolymerization",
           "parent": 902
          },
          {
           "desc": "decreased rate of microtubule depolymerization involved in meiotic centromere clustering during meiotic prophase I",
           "id": 7112,
           "name": "decreased rate of microtubule depolymerization involved in meiotic centromere clustering during meiotic prophase I",
           "parent": 7111
          },
          {
           "desc": "abnormal eMTOC assembly",
           "id": 5690,
           "name": "abnormal eMTOC assembly",
           "parent": 1350
          },
          {
           "desc": "decreased interphase microtubule nucleation from spindle pole body",
           "id": 6337,
           "name": "decreased interphase microtubule nucleation from spindle pole body",
           "parent": 5694
          },
          {
           "desc": "decreased microtubule nucleation during vegetative growth",
           "id": 6335,
           "name": "decreased microtubule nucleation during vegetative growth",
           "parent": 5692
          },
          {
           "desc": "abolished cytoplasmic microtubule depolymerization at plus end at cell tip",
           "id": 4616,
           "name": "abolished cytoplasmic microtubule depolymerization at plus end at cell tip",
           "parent": 902
          },
          {
           "desc": "increased duration of mitotic spindle disassembly",
           "id": 4881,
           "name": "increased duration of mitotic spindle disassembly",
           "parent": 4621
          },
          {
           "desc": "abnormal cytoplasmic interphase microtubule nucleation",
           "id": 234,
           "name": "abnormal cytoplasmic interphase microtubule nucleation",
           "parent": 5692
          },
          {
           "desc": "spindle self-assembly during meiosis I",
           "id": 7849,
           "name": "spindle self-assembly during meiosis I",
           "parent": 7848
          },
          {
           "desc": "delayed onset of mitotic spindle disassembly",
           "id": 6559,
           "name": "delayed onset of mitotic spindle disassembly",
           "parent": 4621
          },
          {
           "desc": "decreased mitotic spindle microtubule depolymerization",
           "id": 4650,
           "name": "decreased mitotic spindle microtubule depolymerization",
           "parent": 902
          },
          {
           "desc": "abnormal microtubule cytoskeleton organization during vegetative growth",
           "id": 1350,
           "name": "abnormal microtubule cytoskeleton organization during vegetative growth",
           "parent": 54
          },
          {
           "desc": "abnormal mitotic spindle midzone assembly",
           "id": 3304,
           "name": "abnormal mitotic spindle midzone assembly",
           "parent": 177
          },
          {
           "desc": "abnormal spindle assembly during meiosis I",
           "id": 7745,
           "name": "abnormal spindle assembly during meiosis I",
           "parent": 737
          },
          {
           "desc": "decreased cytoplasmic microtubule depolymerization at plus end at cell tip",
           "id": 7182,
           "name": "decreased cytoplasmic microtubule depolymerization at plus end at cell tip",
           "parent": 902
          },
          {
           "desc": "decreased microtubule depolymerization at cell side",
           "id": 7706,
           "name": "decreased microtubule depolymerization at cell side",
           "parent": 902
          },
          {
           "desc": "abnormal microtubule nucleation",
           "id": 7484,
           "name": "abnormal microtubule nucleation",
           "parent": 54
          },
          {
           "desc": "abnormal microtubule cytoskeleton organization during meiotic cell cycle",
           "id": 7113,
           "name": "abnormal microtubule cytoskeleton organization during meiotic cell cycle",
           "parent": 54
          },
          {
           "desc": "abolished mitotic spindle disassembly",
           "id": 4622,
           "name": "abolished mitotic spindle disassembly",
           "parent": 4621
          },
          {
           "desc": "decreased rate of microtubule depolymerization behind moving spindle pole body",
           "id": 4975,
           "name": "decreased rate of microtubule depolymerization behind moving spindle pole body",
           "parent": 903
          },
          {
           "desc": "abolished mitotic spindle midzone assembly",
           "id": 5344,
           "name": "abolished mitotic spindle midzone assembly",
           "parent": 3304
          },
          {
           "desc": "cytoplasmic microtubule formation from nuclear microtubules following spindle microtubule fragmentation",
           "id": 4729,
           "name": "cytoplasmic microtubule formation from nuclear microtubules following spindle microtubule fragmentation",
           "parent": 4727
          },
          {
           "desc": "increased rate of microtubule depolymerization during vegetative growth",
           "id": 3194,
           "name": "increased rate of microtubule depolymerization during vegetative growth",
           "parent": 902
          },
          {
           "desc": "abnormal meiotic spindle assembly",
           "id": 737,
           "name": "abnormal meiotic spindle assembly",
           "parent": 119
          },
          {
           "desc": "abnormal spindle assembly",
           "id": 119,
           "name": "abnormal spindle assembly",
           "parent": 54
          },
          {
           "desc": "normal spindle elongation during meiotic metaphase I",
           "id": 7746,
           "name": "normal spindle elongation during meiotic metaphase I",
           "parent": 7745
          },
          {
           "desc": "abnormal microtubule cytoskeleton organization",
           "id": 54,
           "name": "abnormal microtubule cytoskeleton organization"
          },
          {
           "desc": "increased duration of spindle assembly during meiosis I",
           "id": 7748,
           "name": "increased duration of spindle assembly during meiosis I",
           "parent": 7745
          },
          {
           "desc": "abolished mitotic spindle microtubule nucleation from spindle pole body",
           "id": 7422,
           "name": "abolished mitotic spindle microtubule nucleation from spindle pole body",
           "parent": 5692
          },
          {
           "desc": "abnormal horsetail-astral microtubule organization",
           "id": 7501,
           "name": "abnormal horsetail-astral microtubule organization",
           "parent": 7113
          },
          {
           "desc": "abnormal microtubule nucleation during vegetative growth",
           "id": 5692,
           "name": "abnormal microtubule nucleation during vegetative growth",
           "parent": 1350
          },
          {
           "desc": "increased rate of interphase microtubule polymerization",
           "id": 4615,
           "name": "increased rate of interphase microtubule polymerization",
           "parent": 4614
          },
          {
           "desc": "abnormal microtubule depolymerization",
           "id": 7111,
           "name": "abnormal microtubule depolymerization",
           "parent": 54
          },
          {
           "desc": "abolished spindle assembly during meiosis I",
           "id": 7851,
           "name": "abolished spindle assembly during meiosis I",
           "parent": 7745
          },
          {
           "desc": "decreased mitotic spindle microtubule depolymerization during anaphase A",
           "id": 5423,
           "name": "decreased mitotic spindle microtubule depolymerization during anaphase A",
           "parent": 4650
          },
          {
           "desc": "abolished eMTOC assembly",
           "id": 4624,
           "name": "abolished eMTOC assembly",
           "parent": 5690
          },
          {
           "desc": "decreased kinetochore microtubule depolymerization during mitotic metaphase chromosome recapture",
           "id": 5363,
           "name": "decreased kinetochore microtubule depolymerization during mitotic metaphase chromosome recapture",
           "parent": 4650
          },
          {
           "desc": "abolished microtubule polymerization",
           "id": 6067,
           "name": "abolished microtubule polymerization",
           "parent": 4614
          },
          {
           "desc": "abolished microtubule nucleation from eMTOC",
           "id": 5698,
           "name": "abolished microtubule nucleation from eMTOC",
           "parent": 5693
          },
          {
           "desc": "abnormal mitotic spindle assembly",
           "id": 177,
           "name": "abnormal mitotic spindle assembly",
           "parent": 1350
          },
          {
           "desc": "abolished cytoplasmic interphase microtubule nucleation from spindle pole body",
           "id": 5697,
           "name": "abolished cytoplasmic interphase microtubule nucleation from spindle pole body",
           "parent": 4766
          },
          {
           "desc": "increased rate of microtubule depolymerization ahead of moving spindle pole body",
           "id": 4976,
           "name": "increased rate of microtubule depolymerization ahead of moving spindle pole body",
           "parent": 3194
          },
          {
           "desc": "abolished cytoplasmic microtubule nucleation",
           "id": 5693,
           "name": "abolished cytoplasmic microtubule nucleation",
           "parent": 5692
          },
          {
           "desc": "abolished astral microtubule nucleation during mitosis",
           "id": 5695,
           "name": "abolished astral microtubule nucleation during mitosis",
           "parent": 5693
          },
          {
           "desc": "decreased mitotic microtubule nucleation",
           "id": 6336,
           "name": "decreased mitotic microtubule nucleation",
           "parent": 6335
          },
          {
           "desc": "abnormal spindle assembly during meiosis II",
           "id": 4510,
           "name": "abnormal spindle assembly during meiosis II",
           "parent": 737
          },
          {
           "desc": "increased microtubule dwell time at cell tip",
           "id": 3417,
           "name": "increased microtubule dwell time at cell tip",
           "parent": 1350
          },
          {
           "desc": "increased microtubule depolymerization at cell side",
           "id": 6105,
           "name": "increased microtubule depolymerization at cell side",
           "parent": 902
          },
          {
           "desc": "decreased rate of microtubule depolymerization during vegetative growth",
           "id": 903,
           "name": "decreased rate of microtubule depolymerization during vegetative growth",
           "parent": 902
          },
          {
           "desc": "decreased microtubule dwell time at cell tip",
           "id": 5799,
           "name": "decreased microtubule dwell time at cell tip",
           "parent": 1350
          }
         ]
        },
        {
         "name": "links",
         "source": "tree",
         "transform": [
          {
           "type": "treelinks"
          },
          {
           "orient": "horizontal",
           "shape": {
            "signal": "links"
           },
           "type": "linkpath"
          }
         ]
        }
       ],
       "description": "An example of Cartesian layouts for a node-link diagram of hierarchical data.",
       "height": 1600,
       "marks": [
        {
         "encode": {
          "update": {
           "path": {
            "field": "path"
           },
           "stroke": {
            "value": "#ccc"
           }
          }
         },
         "from": {
          "data": "links"
         },
         "type": "path"
        },
        {
         "encode": {
          "enter": {
           "size": {
            "value": 100
           },
           "stroke": {
            "value": "#fff"
           },
           "tooltip": {
            "signal": "datum.desc"
           }
          },
          "update": {
           "fill": {
            "field": "depth",
            "scale": "color"
           },
           "x": {
            "field": "x"
           },
           "y": {
            "field": "y"
           }
          }
         },
         "from": {
          "data": "tree"
         },
         "type": "symbol"
        },
        {
         "encode": {
          "enter": {
           "baseline": {
            "value": "middle"
           },
           "fontSize": {
            "value": 9
           },
           "text": {
            "field": "name"
           }
          },
          "update": {
           "align": {
            "signal": "datum.children ? 'right' : 'left'"
           },
           "dx": {
            "signal": "datum.children ? -7 : 7"
           },
           "opacity": {
            "signal": "labels ? 1 : 0"
           },
           "x": {
            "field": "x"
           },
           "y": {
            "field": "y"
           }
          }
         },
         "from": {
          "data": "tree"
         },
         "type": "text"
        }
       ],
       "padding": 5,
       "scales": [
        {
         "domain": {
          "data": "tree",
          "field": "depth"
         },
         "name": "color",
         "range": {
          "scheme": "magma"
         },
         "type": "linear",
         "zero": true
        }
       ],
       "signals": [
        {
         "bind": {
          "input": "checkbox"
         },
         "name": "labels",
         "value": true
        },
        {
         "bind": {
          "input": "radio",
          "options": [
           "tidy",
           "cluster"
          ]
         },
         "name": "layout",
         "value": "tidy"
        },
        {
         "bind": {
          "input": "select",
          "options": [
           "line",
           "curve",
           "diagonal",
           "orthogonal"
          ]
         },
         "name": "links",
         "value": "diagonal"
        },
        {
         "bind": {
          "input": "checkbox"
         },
         "name": "separation",
         "value": false
        }
       ],
       "width": 600
      }
     },
     "metadata": {},
     "output_type": "display_data"
    }
   ],
   "source": [
    "import pronto\n",
    "import json\n",
    "import urllib.request\n",
    "\n",
    "fypo = pronto.Ontology('./fypo-base.obo')\n",
    "\n",
    "starting_point  = fypo['FYPO:0000054'].subclasses().to_set()\n",
    "data = []\n",
    "\n",
    "for term in starting_point:\n",
    "    value = {\"id\": int(term.id[5:]), \"name\": term.name, \"desc\": term.name}\n",
    "    parents = term.superclasses(with_self=False, distance=1).to_set() & starting_point\n",
    "    if parents:\n",
    "        value['parent'] = int(parents.pop().id[5:])\n",
    "    data.append(value)\n",
    "\n",
    "\n",
    "\n",
    "# Let's use the Vega radial tree example as a basis of the visualization\n",
    "view = json.load(urllib.request.urlopen(\"https://vega.github.io/vega/examples/tree-layout.vg.json\"))\n",
    "\n",
    "# First replace the default data with our own\n",
    "view['data'][0].pop('url')\n",
    "view['data'][0]['values'] = data\n",
    "view['marks'][1]['encode']['enter']['tooltip'] = {\"signal\": \"datum.desc\"}\n",
    "# view['signals'][4]['value'] = 'cluster'\n",
    "\n",
    "# Render the clustered tree\n",
    "display({\"application/vnd.vega.v5+json\": view}, raw=True)\n"
   ]
  },
  {
   "cell_type": "code",
   "execution_count": 31,
   "id": "f77ff8f7",
   "metadata": {},
   "outputs": [
    {
     "data": {
      "application/vnd.vega.v5+json": {
       "$schema": "https://vega.github.io/schema/vega/v5.json",
       "autosize": "none",
       "data": [
        {
         "format": {
          "property": "nodes",
          "type": "json"
         },
         "name": "node-data",
         "values": {
          "links": [
           {
            "source": 0,
            "target": 59,
            "value": 1
           },
           {
            "source": 1,
            "target": 55,
            "value": 1
           },
           {
            "source": 2,
            "target": 68,
            "value": 1
           },
           {
            "source": 3,
            "target": 28,
            "value": 1
           },
           {
            "source": 3,
            "target": 74,
            "value": 1
           },
           {
            "source": 4,
            "target": 68,
            "value": 1
           },
           {
            "source": 5,
            "target": 77,
            "value": 1
           },
           {
            "source": 6,
            "target": 40,
            "value": 1
           },
           {
            "source": 7,
            "target": 24,
            "value": 1
           },
           {
            "source": 8,
            "target": 55,
            "value": 1
           },
           {
            "source": 9,
            "target": 16,
            "value": 1
           },
           {
            "source": 10,
            "target": 16,
            "value": 1
           },
           {
            "source": 11,
            "target": 40,
            "value": 1
           },
           {
            "source": 12,
            "target": 51,
            "value": 1
           },
           {
            "source": 13,
            "target": 40,
            "value": 1
           },
           {
            "source": 14,
            "target": 16,
            "value": 1
           },
           {
            "source": 15,
            "target": 68,
            "value": 1
           },
           {
            "source": 16,
            "target": 24,
            "value": 1
           },
           {
            "source": 17,
            "target": 11,
            "value": 1
           },
           {
            "source": 18,
            "target": 16,
            "value": 1
           },
           {
            "source": 19,
            "target": 33,
            "value": 1
           },
           {
            "source": 20,
            "target": 7,
            "value": 1
           },
           {
            "source": 21,
            "target": 23,
            "value": 1
           },
           {
            "source": 22,
            "target": 73,
            "value": 1
           },
           {
            "source": 23,
            "target": 36,
            "value": 1
           },
           {
            "source": 23,
            "target": 71,
            "value": 1
           },
           {
            "source": 24,
            "target": 40,
            "value": 1
           },
           {
            "source": 25,
            "target": 8,
            "value": 1
           },
           {
            "source": 25,
            "target": 40,
            "value": 1
           },
           {
            "source": 26,
            "target": 40,
            "value": 1
           },
           {
            "source": 27,
            "target": 45,
            "value": 1
           },
           {
            "source": 27,
            "target": 74,
            "value": 1
           },
           {
            "source": 28,
            "target": 52,
            "value": 1
           },
           {
            "source": 29,
            "target": 7,
            "value": 1
           },
           {
            "source": 30,
            "target": 61,
            "value": 1
           },
           {
            "source": 30,
            "target": 46,
            "value": 1
           },
           {
            "source": 31,
            "target": 40,
            "value": 1
           },
           {
            "source": 32,
            "target": 19,
            "value": 1
           },
           {
            "source": 33,
            "target": 59,
            "value": 1
           },
           {
            "source": 34,
            "target": 7,
            "value": 1
           },
           {
            "source": 35,
            "target": 25,
            "value": 1
           },
           {
            "source": 36,
            "target": 59,
            "value": 1
           },
           {
            "source": 37,
            "target": 28,
            "value": 1
           },
           {
            "source": 37,
            "target": 42,
            "value": 1
           },
           {
            "source": 38,
            "target": 25,
            "value": 1
           },
           {
            "source": 39,
            "target": 7,
            "value": 1
           },
           {
            "source": 40,
            "target": 55,
            "value": 1
           },
           {
            "source": 41,
            "target": 68,
            "value": 1
           },
           {
            "source": 42,
            "target": 52,
            "value": 1
           },
           {
            "source": 43,
            "target": 7,
            "value": 1
           },
           {
            "source": 44,
            "target": 7,
            "value": 1
           },
           {
            "source": 45,
            "target": 55,
            "value": 1
           },
           {
            "source": 46,
            "target": 55,
            "value": 1
           },
           {
            "source": 47,
            "target": 25,
            "value": 1
           },
           {
            "source": 48,
            "target": 77,
            "value": 1
           },
           {
            "source": 49,
            "target": 41,
            "value": 1
           },
           {
            "source": 50,
            "target": 11,
            "value": 1
           },
           {
            "source": 51,
            "target": 7,
            "value": 1
           },
           {
            "source": 52,
            "target": 53,
            "value": 1
           },
           {
            "source": 53,
            "target": 55,
            "value": 1
           },
           {
            "source": 54,
            "target": 42,
            "value": 1
           },
           {
            "source": 56,
            "target": 42,
            "value": 1
           },
           {
            "source": 57,
            "target": 59,
            "value": 1
           },
           {
            "source": 58,
            "target": 46,
            "value": 1
           },
           {
            "source": 59,
            "target": 40,
            "value": 1
           },
           {
            "source": 60,
            "target": 16,
            "value": 1
           },
           {
            "source": 61,
            "target": 55,
            "value": 1
           },
           {
            "source": 62,
            "target": 42,
            "value": 1
           },
           {
            "source": 63,
            "target": 39,
            "value": 1
           },
           {
            "source": 64,
            "target": 31,
            "value": 1
           },
           {
            "source": 65,
            "target": 39,
            "value": 1
           },
           {
            "source": 66,
            "target": 16,
            "value": 1
           },
           {
            "source": 67,
            "target": 71,
            "value": 1
           },
           {
            "source": 68,
            "target": 40,
            "value": 1
           },
           {
            "source": 68,
            "target": 53,
            "value": 1
           },
           {
            "source": 69,
            "target": 23,
            "value": 1
           },
           {
            "source": 70,
            "target": 51,
            "value": 1
           },
           {
            "source": 71,
            "target": 59,
            "value": 1
           },
           {
            "source": 72,
            "target": 71,
            "value": 1
           },
           {
            "source": 73,
            "target": 33,
            "value": 1
           },
           {
            "source": 74,
            "target": 52,
            "value": 1
           },
           {
            "source": 75,
            "target": 40,
            "value": 1
           },
           {
            "source": 76,
            "target": 7,
            "value": 1
           },
           {
            "source": 77,
            "target": 7,
            "value": 1
           },
           {
            "source": 78,
            "target": 40,
            "value": 1
           }
          ],
          "nodes": [
           {
            "desc": "delayed onset of mitotic spindle microtubule nucleation from old spindle pole body",
            "group": 8,
            "id": "FYPO:0007428",
            "name": "delayed onset of mitotic spindle microtubule nucleation from old spindle pole body"
           },
           {
            "desc": "abolished astral microtubule anchoring at mitotic spindle pole body",
            "group": 8,
            "id": "FYPO:0004623",
            "name": "abolished astral microtubule anchoring at mitotic spindle pole body"
           },
           {
            "desc": "abolished mitotic spindle assembly",
            "group": 8,
            "id": "FYPO:0001683",
            "name": "abolished mitotic spindle assembly"
           },
           {
            "desc": "spindle self-assembly during meiosis II",
            "group": 8,
            "id": "FYPO:0007850",
            "name": "spindle self-assembly during meiosis II"
           },
           {
            "desc": "abolished mitotic spindle formation phase II",
            "group": 8,
            "id": "FYPO:0007754",
            "name": "abolished mitotic spindle formation phase II"
           },
           {
            "desc": "decreased rate of microtubule depolymerization at minus end",
            "group": 8,
            "id": "FYPO:0004721",
            "name": "decreased rate of microtubule depolymerization at minus end"
           },
           {
            "desc": "abnormal post-anaphase microtubule array organization",
            "group": 8,
            "id": "FYPO:0004625",
            "name": "abnormal post-anaphase microtubule array organization"
           },
           {
            "desc": "abnormal microtubule depolymerization during vegetative growth",
            "group": 8,
            "id": "FYPO:0000902",
            "name": "abnormal microtubule depolymerization during vegetative growth"
           },
           {
            "desc": "abnormal spindle disassembly",
            "group": 8,
            "id": "FYPO:0004620",
            "name": "abnormal spindle disassembly"
           },
           {
            "desc": "increased microtubule polymerization",
            "group": 8,
            "id": "FYPO:0006180",
            "name": "increased microtubule polymerization"
           },
           {
            "desc": "decreased rate of microtubule polymerization",
            "group": 8,
            "id": "FYPO:0005703",
            "name": "decreased rate of microtubule polymerization"
           },
           {
            "desc": "cytoplasmic microtubule formation from nuclear microtubules",
            "group": 8,
            "id": "FYPO:0004727",
            "name": "cytoplasmic microtubule formation from nuclear microtubules"
           },
           {
            "desc": "increased rate of microtubule depolymerization at minus end",
            "group": 8,
            "id": "FYPO:0004617",
            "name": "increased rate of microtubule depolymerization at minus end"
           },
           {
            "desc": "abnormal iMTOC assembly",
            "group": 8,
            "id": "FYPO:0006396",
            "name": "abnormal iMTOC assembly"
           },
           {
            "desc": "decreased microtubule polymerization",
            "group": 8,
            "id": "FYPO:0005681",
            "name": "decreased microtubule polymerization"
           },
           {
            "desc": "delayed onset of mitotic spindle assembly",
            "group": 8,
            "id": "FYPO:0004648",
            "name": "delayed onset of mitotic spindle assembly"
           },
           {
            "desc": "abnormal microtubule polymerization",
            "group": 8,
            "id": "FYPO:0004614",
            "name": "abnormal microtubule polymerization"
           },
           {
            "desc": "cytoplasmic microtubule formation from nuclear microtubules following nuclear envelope breakthrough",
            "group": 8,
            "id": "FYPO:0004728",
            "name": "cytoplasmic microtubule formation from nuclear microtubules following nuclear envelope breakthrough"
           },
           {
            "desc": "decreased spatial extent of interphase microtubule polymerization",
            "group": 8,
            "id": "FYPO:0005463",
            "name": "decreased spatial extent of interphase microtubule polymerization"
           },
           {
            "desc": "decreased interphase microtubule nucleation",
            "group": 8,
            "id": "FYPO:0005694",
            "name": "decreased interphase microtubule nucleation"
           },
           {
            "desc": "decreased microtubule depolymerization during vegetative growth",
            "group": 8,
            "id": "FYPO:0005682",
            "name": "decreased microtubule depolymerization during vegetative growth"
           },
           {
            "desc": "abolished cytoplasmic microtubule nucleation from iMTOC",
            "group": 8,
            "id": "FYPO:0005696",
            "name": "abolished cytoplasmic microtubule nucleation from iMTOC"
           },
           {
            "desc": "decreased mitotic spindle microtubule nucleation from spindle pole body",
            "group": 8,
            "id": "FYPO:0006593",
            "name": "decreased mitotic spindle microtubule nucleation from spindle pole body"
           },
           {
            "desc": "abolished cytoplasmic interphase microtubule nucleation",
            "group": 8,
            "id": "FYPO:0004766",
            "name": "abolished cytoplasmic interphase microtubule nucleation"
           },
           {
            "desc": "abnormal microtubule polymerization or depolymerization during vegetative growth",
            "group": 8,
            "id": "FYPO:0000901",
            "name": "abnormal microtubule polymerization or depolymerization during vegetative growth"
           },
           {
            "desc": "abnormal mitotic spindle disassembly",
            "group": 8,
            "id": "FYPO:0004621",
            "name": "abnormal mitotic spindle disassembly"
           },
           {
            "desc": "decreased microtubule polymerization or depolymerization",
            "group": 8,
            "id": "FYPO:0000904",
            "name": "decreased microtubule polymerization or depolymerization"
           },
           {
            "desc": "abolished meiotic spindle microtubule nucleation from new spindle pole body during meiosis II",
            "group": 8,
            "id": "FYPO:0007485",
            "name": "abolished meiotic spindle microtubule nucleation from new spindle pole body during meiosis II"
           },
           {
            "desc": "meiotic spindle self-assembly",
            "group": 8,
            "id": "FYPO:0007848",
            "name": "meiotic spindle self-assembly"
           },
           {
            "desc": "decreased rate of cytoplasmic microtubule depolymerization",
            "group": 8,
            "id": "FYPO:0003190",
            "name": "decreased rate of cytoplasmic microtubule depolymerization"
           },
           {
            "desc": "decreased rate of microtubule depolymerization involved in meiotic centromere clustering during meiotic prophase I",
            "group": 8,
            "id": "FYPO:0007112",
            "name": "decreased rate of microtubule depolymerization involved in meiotic centromere clustering during meiotic prophase I"
           },
           {
            "desc": "abnormal eMTOC assembly",
            "group": 8,
            "id": "FYPO:0005690",
            "name": "abnormal eMTOC assembly"
           },
           {
            "desc": "decreased interphase microtubule nucleation from spindle pole body",
            "group": 8,
            "id": "FYPO:0006337",
            "name": "decreased interphase microtubule nucleation from spindle pole body"
           },
           {
            "desc": "decreased microtubule nucleation during vegetative growth",
            "group": 8,
            "id": "FYPO:0006335",
            "name": "decreased microtubule nucleation during vegetative growth"
           },
           {
            "desc": "abolished cytoplasmic microtubule depolymerization at plus end at cell tip",
            "group": 8,
            "id": "FYPO:0004616",
            "name": "abolished cytoplasmic microtubule depolymerization at plus end at cell tip"
           },
           {
            "desc": "increased duration of mitotic spindle disassembly",
            "group": 8,
            "id": "FYPO:0004881",
            "name": "increased duration of mitotic spindle disassembly"
           },
           {
            "desc": "abnormal cytoplasmic interphase microtubule nucleation",
            "group": 8,
            "id": "FYPO:0000234",
            "name": "abnormal cytoplasmic interphase microtubule nucleation"
           },
           {
            "desc": "spindle self-assembly during meiosis I",
            "group": 8,
            "id": "FYPO:0007849",
            "name": "spindle self-assembly during meiosis I"
           },
           {
            "desc": "delayed onset of mitotic spindle disassembly",
            "group": 8,
            "id": "FYPO:0006559",
            "name": "delayed onset of mitotic spindle disassembly"
           },
           {
            "desc": "decreased mitotic spindle microtubule depolymerization",
            "group": 8,
            "id": "FYPO:0004650",
            "name": "decreased mitotic spindle microtubule depolymerization"
           },
           {
            "desc": "abnormal microtubule cytoskeleton organization during vegetative growth",
            "group": 8,
            "id": "FYPO:0001350",
            "name": "abnormal microtubule cytoskeleton organization during vegetative growth"
           },
           {
            "desc": "abnormal mitotic spindle midzone assembly",
            "group": 8,
            "id": "FYPO:0003304",
            "name": "abnormal mitotic spindle midzone assembly"
           },
           {
            "desc": "abnormal spindle assembly during meiosis I",
            "group": 8,
            "id": "FYPO:0007745",
            "name": "abnormal spindle assembly during meiosis I"
           },
           {
            "desc": "decreased cytoplasmic microtubule depolymerization at plus end at cell tip",
            "group": 8,
            "id": "FYPO:0007182",
            "name": "decreased cytoplasmic microtubule depolymerization at plus end at cell tip"
           },
           {
            "desc": "decreased microtubule depolymerization at cell side",
            "group": 8,
            "id": "FYPO:0007706",
            "name": "decreased microtubule depolymerization at cell side"
           },
           {
            "desc": "abnormal microtubule nucleation",
            "group": 8,
            "id": "FYPO:0007484",
            "name": "abnormal microtubule nucleation"
           },
           {
            "desc": "abnormal microtubule cytoskeleton organization during meiotic cell cycle",
            "group": 8,
            "id": "FYPO:0007113",
            "name": "abnormal microtubule cytoskeleton organization during meiotic cell cycle"
           },
           {
            "desc": "abolished mitotic spindle disassembly",
            "group": 8,
            "id": "FYPO:0004622",
            "name": "abolished mitotic spindle disassembly"
           },
           {
            "desc": "decreased rate of microtubule depolymerization behind moving spindle pole body",
            "group": 8,
            "id": "FYPO:0004975",
            "name": "decreased rate of microtubule depolymerization behind moving spindle pole body"
           },
           {
            "desc": "abolished mitotic spindle midzone assembly",
            "group": 8,
            "id": "FYPO:0005344",
            "name": "abolished mitotic spindle midzone assembly"
           },
           {
            "desc": "cytoplasmic microtubule formation from nuclear microtubules following spindle microtubule fragmentation",
            "group": 8,
            "id": "FYPO:0004729",
            "name": "cytoplasmic microtubule formation from nuclear microtubules following spindle microtubule fragmentation"
           },
           {
            "desc": "increased rate of microtubule depolymerization during vegetative growth",
            "group": 8,
            "id": "FYPO:0003194",
            "name": "increased rate of microtubule depolymerization during vegetative growth"
           },
           {
            "desc": "abnormal meiotic spindle assembly",
            "group": 8,
            "id": "FYPO:0000737",
            "name": "abnormal meiotic spindle assembly"
           },
           {
            "desc": "abnormal spindle assembly",
            "group": 8,
            "id": "FYPO:0000119",
            "name": "abnormal spindle assembly"
           },
           {
            "desc": "normal spindle elongation during meiotic metaphase I",
            "group": 8,
            "id": "FYPO:0007746",
            "name": "normal spindle elongation during meiotic metaphase I"
           },
           {
            "desc": "abnormal microtubule cytoskeleton organization",
            "group": 8,
            "id": "FYPO:0000054",
            "name": "abnormal microtubule cytoskeleton organization"
           },
           {
            "desc": "increased duration of spindle assembly during meiosis I",
            "group": 8,
            "id": "FYPO:0007748",
            "name": "increased duration of spindle assembly during meiosis I"
           },
           {
            "desc": "abolished mitotic spindle microtubule nucleation from spindle pole body",
            "group": 8,
            "id": "FYPO:0007422",
            "name": "abolished mitotic spindle microtubule nucleation from spindle pole body"
           },
           {
            "desc": "abnormal horsetail-astral microtubule organization",
            "group": 8,
            "id": "FYPO:0007501",
            "name": "abnormal horsetail-astral microtubule organization"
           },
           {
            "desc": "abnormal microtubule nucleation during vegetative growth",
            "group": 8,
            "id": "FYPO:0005692",
            "name": "abnormal microtubule nucleation during vegetative growth"
           },
           {
            "desc": "increased rate of interphase microtubule polymerization",
            "group": 8,
            "id": "FYPO:0004615",
            "name": "increased rate of interphase microtubule polymerization"
           },
           {
            "desc": "abnormal microtubule depolymerization",
            "group": 8,
            "id": "FYPO:0007111",
            "name": "abnormal microtubule depolymerization"
           },
           {
            "desc": "abolished spindle assembly during meiosis I",
            "group": 8,
            "id": "FYPO:0007851",
            "name": "abolished spindle assembly during meiosis I"
           },
           {
            "desc": "decreased mitotic spindle microtubule depolymerization during anaphase A",
            "group": 8,
            "id": "FYPO:0005423",
            "name": "decreased mitotic spindle microtubule depolymerization during anaphase A"
           },
           {
            "desc": "abolished eMTOC assembly",
            "group": 8,
            "id": "FYPO:0004624",
            "name": "abolished eMTOC assembly"
           },
           {
            "desc": "decreased kinetochore microtubule depolymerization during mitotic metaphase chromosome recapture",
            "group": 8,
            "id": "FYPO:0005363",
            "name": "decreased kinetochore microtubule depolymerization during mitotic metaphase chromosome recapture"
           },
           {
            "desc": "abolished microtubule polymerization",
            "group": 8,
            "id": "FYPO:0006067",
            "name": "abolished microtubule polymerization"
           },
           {
            "desc": "abolished microtubule nucleation from eMTOC",
            "group": 8,
            "id": "FYPO:0005698",
            "name": "abolished microtubule nucleation from eMTOC"
           },
           {
            "desc": "abnormal mitotic spindle assembly",
            "group": 8,
            "id": "FYPO:0000177",
            "name": "abnormal mitotic spindle assembly"
           },
           {
            "desc": "abolished cytoplasmic interphase microtubule nucleation from spindle pole body",
            "group": 8,
            "id": "FYPO:0005697",
            "name": "abolished cytoplasmic interphase microtubule nucleation from spindle pole body"
           },
           {
            "desc": "increased rate of microtubule depolymerization ahead of moving spindle pole body",
            "group": 8,
            "id": "FYPO:0004976",
            "name": "increased rate of microtubule depolymerization ahead of moving spindle pole body"
           },
           {
            "desc": "abolished cytoplasmic microtubule nucleation",
            "group": 8,
            "id": "FYPO:0005693",
            "name": "abolished cytoplasmic microtubule nucleation"
           },
           {
            "desc": "abolished astral microtubule nucleation during mitosis",
            "group": 8,
            "id": "FYPO:0005695",
            "name": "abolished astral microtubule nucleation during mitosis"
           },
           {
            "desc": "decreased mitotic microtubule nucleation",
            "group": 8,
            "id": "FYPO:0006336",
            "name": "decreased mitotic microtubule nucleation"
           },
           {
            "desc": "abnormal spindle assembly during meiosis II",
            "group": 8,
            "id": "FYPO:0004510",
            "name": "abnormal spindle assembly during meiosis II"
           },
           {
            "desc": "increased microtubule dwell time at cell tip",
            "group": 8,
            "id": "FYPO:0003417",
            "name": "increased microtubule dwell time at cell tip"
           },
           {
            "desc": "increased microtubule depolymerization at cell side",
            "group": 8,
            "id": "FYPO:0006105",
            "name": "increased microtubule depolymerization at cell side"
           },
           {
            "desc": "decreased rate of microtubule depolymerization during vegetative growth",
            "group": 8,
            "id": "FYPO:0000903",
            "name": "decreased rate of microtubule depolymerization during vegetative growth"
           },
           {
            "desc": "decreased microtubule dwell time at cell tip",
            "group": 8,
            "id": "FYPO:0005799",
            "name": "decreased microtubule dwell time at cell tip"
           }
          ]
         }
        },
        {
         "format": {
          "property": "links",
          "type": "json"
         },
         "name": "link-data",
         "values": {
          "links": [
           {
            "source": 0,
            "target": 59,
            "value": 1
           },
           {
            "source": 1,
            "target": 55,
            "value": 1
           },
           {
            "source": 2,
            "target": 68,
            "value": 1
           },
           {
            "source": 3,
            "target": 28,
            "value": 1
           },
           {
            "source": 3,
            "target": 74,
            "value": 1
           },
           {
            "source": 4,
            "target": 68,
            "value": 1
           },
           {
            "source": 5,
            "target": 77,
            "value": 1
           },
           {
            "source": 6,
            "target": 40,
            "value": 1
           },
           {
            "source": 7,
            "target": 24,
            "value": 1
           },
           {
            "source": 8,
            "target": 55,
            "value": 1
           },
           {
            "source": 9,
            "target": 16,
            "value": 1
           },
           {
            "source": 10,
            "target": 16,
            "value": 1
           },
           {
            "source": 11,
            "target": 40,
            "value": 1
           },
           {
            "source": 12,
            "target": 51,
            "value": 1
           },
           {
            "source": 13,
            "target": 40,
            "value": 1
           },
           {
            "source": 14,
            "target": 16,
            "value": 1
           },
           {
            "source": 15,
            "target": 68,
            "value": 1
           },
           {
            "source": 16,
            "target": 24,
            "value": 1
           },
           {
            "source": 17,
            "target": 11,
            "value": 1
           },
           {
            "source": 18,
            "target": 16,
            "value": 1
           },
           {
            "source": 19,
            "target": 33,
            "value": 1
           },
           {
            "source": 20,
            "target": 7,
            "value": 1
           },
           {
            "source": 21,
            "target": 23,
            "value": 1
           },
           {
            "source": 22,
            "target": 73,
            "value": 1
           },
           {
            "source": 23,
            "target": 36,
            "value": 1
           },
           {
            "source": 23,
            "target": 71,
            "value": 1
           },
           {
            "source": 24,
            "target": 40,
            "value": 1
           },
           {
            "source": 25,
            "target": 8,
            "value": 1
           },
           {
            "source": 25,
            "target": 40,
            "value": 1
           },
           {
            "source": 26,
            "target": 40,
            "value": 1
           },
           {
            "source": 27,
            "target": 45,
            "value": 1
           },
           {
            "source": 27,
            "target": 74,
            "value": 1
           },
           {
            "source": 28,
            "target": 52,
            "value": 1
           },
           {
            "source": 29,
            "target": 7,
            "value": 1
           },
           {
            "source": 30,
            "target": 61,
            "value": 1
           },
           {
            "source": 30,
            "target": 46,
            "value": 1
           },
           {
            "source": 31,
            "target": 40,
            "value": 1
           },
           {
            "source": 32,
            "target": 19,
            "value": 1
           },
           {
            "source": 33,
            "target": 59,
            "value": 1
           },
           {
            "source": 34,
            "target": 7,
            "value": 1
           },
           {
            "source": 35,
            "target": 25,
            "value": 1
           },
           {
            "source": 36,
            "target": 59,
            "value": 1
           },
           {
            "source": 37,
            "target": 28,
            "value": 1
           },
           {
            "source": 37,
            "target": 42,
            "value": 1
           },
           {
            "source": 38,
            "target": 25,
            "value": 1
           },
           {
            "source": 39,
            "target": 7,
            "value": 1
           },
           {
            "source": 40,
            "target": 55,
            "value": 1
           },
           {
            "source": 41,
            "target": 68,
            "value": 1
           },
           {
            "source": 42,
            "target": 52,
            "value": 1
           },
           {
            "source": 43,
            "target": 7,
            "value": 1
           },
           {
            "source": 44,
            "target": 7,
            "value": 1
           },
           {
            "source": 45,
            "target": 55,
            "value": 1
           },
           {
            "source": 46,
            "target": 55,
            "value": 1
           },
           {
            "source": 47,
            "target": 25,
            "value": 1
           },
           {
            "source": 48,
            "target": 77,
            "value": 1
           },
           {
            "source": 49,
            "target": 41,
            "value": 1
           },
           {
            "source": 50,
            "target": 11,
            "value": 1
           },
           {
            "source": 51,
            "target": 7,
            "value": 1
           },
           {
            "source": 52,
            "target": 53,
            "value": 1
           },
           {
            "source": 53,
            "target": 55,
            "value": 1
           },
           {
            "source": 54,
            "target": 42,
            "value": 1
           },
           {
            "source": 56,
            "target": 42,
            "value": 1
           },
           {
            "source": 57,
            "target": 59,
            "value": 1
           },
           {
            "source": 58,
            "target": 46,
            "value": 1
           },
           {
            "source": 59,
            "target": 40,
            "value": 1
           },
           {
            "source": 60,
            "target": 16,
            "value": 1
           },
           {
            "source": 61,
            "target": 55,
            "value": 1
           },
           {
            "source": 62,
            "target": 42,
            "value": 1
           },
           {
            "source": 63,
            "target": 39,
            "value": 1
           },
           {
            "source": 64,
            "target": 31,
            "value": 1
           },
           {
            "source": 65,
            "target": 39,
            "value": 1
           },
           {
            "source": 66,
            "target": 16,
            "value": 1
           },
           {
            "source": 67,
            "target": 71,
            "value": 1
           },
           {
            "source": 68,
            "target": 40,
            "value": 1
           },
           {
            "source": 68,
            "target": 53,
            "value": 1
           },
           {
            "source": 69,
            "target": 23,
            "value": 1
           },
           {
            "source": 70,
            "target": 51,
            "value": 1
           },
           {
            "source": 71,
            "target": 59,
            "value": 1
           },
           {
            "source": 72,
            "target": 71,
            "value": 1
           },
           {
            "source": 73,
            "target": 33,
            "value": 1
           },
           {
            "source": 74,
            "target": 52,
            "value": 1
           },
           {
            "source": 75,
            "target": 40,
            "value": 1
           },
           {
            "source": 76,
            "target": 7,
            "value": 1
           },
           {
            "source": 77,
            "target": 7,
            "value": 1
           },
           {
            "source": 78,
            "target": 40,
            "value": 1
           }
          ],
          "nodes": [
           {
            "desc": "delayed onset of mitotic spindle microtubule nucleation from old spindle pole body",
            "group": 8,
            "id": "FYPO:0007428",
            "name": "delayed onset of mitotic spindle microtubule nucleation from old spindle pole body"
           },
           {
            "desc": "abolished astral microtubule anchoring at mitotic spindle pole body",
            "group": 8,
            "id": "FYPO:0004623",
            "name": "abolished astral microtubule anchoring at mitotic spindle pole body"
           },
           {
            "desc": "abolished mitotic spindle assembly",
            "group": 8,
            "id": "FYPO:0001683",
            "name": "abolished mitotic spindle assembly"
           },
           {
            "desc": "spindle self-assembly during meiosis II",
            "group": 8,
            "id": "FYPO:0007850",
            "name": "spindle self-assembly during meiosis II"
           },
           {
            "desc": "abolished mitotic spindle formation phase II",
            "group": 8,
            "id": "FYPO:0007754",
            "name": "abolished mitotic spindle formation phase II"
           },
           {
            "desc": "decreased rate of microtubule depolymerization at minus end",
            "group": 8,
            "id": "FYPO:0004721",
            "name": "decreased rate of microtubule depolymerization at minus end"
           },
           {
            "desc": "abnormal post-anaphase microtubule array organization",
            "group": 8,
            "id": "FYPO:0004625",
            "name": "abnormal post-anaphase microtubule array organization"
           },
           {
            "desc": "abnormal microtubule depolymerization during vegetative growth",
            "group": 8,
            "id": "FYPO:0000902",
            "name": "abnormal microtubule depolymerization during vegetative growth"
           },
           {
            "desc": "abnormal spindle disassembly",
            "group": 8,
            "id": "FYPO:0004620",
            "name": "abnormal spindle disassembly"
           },
           {
            "desc": "increased microtubule polymerization",
            "group": 8,
            "id": "FYPO:0006180",
            "name": "increased microtubule polymerization"
           },
           {
            "desc": "decreased rate of microtubule polymerization",
            "group": 8,
            "id": "FYPO:0005703",
            "name": "decreased rate of microtubule polymerization"
           },
           {
            "desc": "cytoplasmic microtubule formation from nuclear microtubules",
            "group": 8,
            "id": "FYPO:0004727",
            "name": "cytoplasmic microtubule formation from nuclear microtubules"
           },
           {
            "desc": "increased rate of microtubule depolymerization at minus end",
            "group": 8,
            "id": "FYPO:0004617",
            "name": "increased rate of microtubule depolymerization at minus end"
           },
           {
            "desc": "abnormal iMTOC assembly",
            "group": 8,
            "id": "FYPO:0006396",
            "name": "abnormal iMTOC assembly"
           },
           {
            "desc": "decreased microtubule polymerization",
            "group": 8,
            "id": "FYPO:0005681",
            "name": "decreased microtubule polymerization"
           },
           {
            "desc": "delayed onset of mitotic spindle assembly",
            "group": 8,
            "id": "FYPO:0004648",
            "name": "delayed onset of mitotic spindle assembly"
           },
           {
            "desc": "abnormal microtubule polymerization",
            "group": 8,
            "id": "FYPO:0004614",
            "name": "abnormal microtubule polymerization"
           },
           {
            "desc": "cytoplasmic microtubule formation from nuclear microtubules following nuclear envelope breakthrough",
            "group": 8,
            "id": "FYPO:0004728",
            "name": "cytoplasmic microtubule formation from nuclear microtubules following nuclear envelope breakthrough"
           },
           {
            "desc": "decreased spatial extent of interphase microtubule polymerization",
            "group": 8,
            "id": "FYPO:0005463",
            "name": "decreased spatial extent of interphase microtubule polymerization"
           },
           {
            "desc": "decreased interphase microtubule nucleation",
            "group": 8,
            "id": "FYPO:0005694",
            "name": "decreased interphase microtubule nucleation"
           },
           {
            "desc": "decreased microtubule depolymerization during vegetative growth",
            "group": 8,
            "id": "FYPO:0005682",
            "name": "decreased microtubule depolymerization during vegetative growth"
           },
           {
            "desc": "abolished cytoplasmic microtubule nucleation from iMTOC",
            "group": 8,
            "id": "FYPO:0005696",
            "name": "abolished cytoplasmic microtubule nucleation from iMTOC"
           },
           {
            "desc": "decreased mitotic spindle microtubule nucleation from spindle pole body",
            "group": 8,
            "id": "FYPO:0006593",
            "name": "decreased mitotic spindle microtubule nucleation from spindle pole body"
           },
           {
            "desc": "abolished cytoplasmic interphase microtubule nucleation",
            "group": 8,
            "id": "FYPO:0004766",
            "name": "abolished cytoplasmic interphase microtubule nucleation"
           },
           {
            "desc": "abnormal microtubule polymerization or depolymerization during vegetative growth",
            "group": 8,
            "id": "FYPO:0000901",
            "name": "abnormal microtubule polymerization or depolymerization during vegetative growth"
           },
           {
            "desc": "abnormal mitotic spindle disassembly",
            "group": 8,
            "id": "FYPO:0004621",
            "name": "abnormal mitotic spindle disassembly"
           },
           {
            "desc": "decreased microtubule polymerization or depolymerization",
            "group": 8,
            "id": "FYPO:0000904",
            "name": "decreased microtubule polymerization or depolymerization"
           },
           {
            "desc": "abolished meiotic spindle microtubule nucleation from new spindle pole body during meiosis II",
            "group": 8,
            "id": "FYPO:0007485",
            "name": "abolished meiotic spindle microtubule nucleation from new spindle pole body during meiosis II"
           },
           {
            "desc": "meiotic spindle self-assembly",
            "group": 8,
            "id": "FYPO:0007848",
            "name": "meiotic spindle self-assembly"
           },
           {
            "desc": "decreased rate of cytoplasmic microtubule depolymerization",
            "group": 8,
            "id": "FYPO:0003190",
            "name": "decreased rate of cytoplasmic microtubule depolymerization"
           },
           {
            "desc": "decreased rate of microtubule depolymerization involved in meiotic centromere clustering during meiotic prophase I",
            "group": 8,
            "id": "FYPO:0007112",
            "name": "decreased rate of microtubule depolymerization involved in meiotic centromere clustering during meiotic prophase I"
           },
           {
            "desc": "abnormal eMTOC assembly",
            "group": 8,
            "id": "FYPO:0005690",
            "name": "abnormal eMTOC assembly"
           },
           {
            "desc": "decreased interphase microtubule nucleation from spindle pole body",
            "group": 8,
            "id": "FYPO:0006337",
            "name": "decreased interphase microtubule nucleation from spindle pole body"
           },
           {
            "desc": "decreased microtubule nucleation during vegetative growth",
            "group": 8,
            "id": "FYPO:0006335",
            "name": "decreased microtubule nucleation during vegetative growth"
           },
           {
            "desc": "abolished cytoplasmic microtubule depolymerization at plus end at cell tip",
            "group": 8,
            "id": "FYPO:0004616",
            "name": "abolished cytoplasmic microtubule depolymerization at plus end at cell tip"
           },
           {
            "desc": "increased duration of mitotic spindle disassembly",
            "group": 8,
            "id": "FYPO:0004881",
            "name": "increased duration of mitotic spindle disassembly"
           },
           {
            "desc": "abnormal cytoplasmic interphase microtubule nucleation",
            "group": 8,
            "id": "FYPO:0000234",
            "name": "abnormal cytoplasmic interphase microtubule nucleation"
           },
           {
            "desc": "spindle self-assembly during meiosis I",
            "group": 8,
            "id": "FYPO:0007849",
            "name": "spindle self-assembly during meiosis I"
           },
           {
            "desc": "delayed onset of mitotic spindle disassembly",
            "group": 8,
            "id": "FYPO:0006559",
            "name": "delayed onset of mitotic spindle disassembly"
           },
           {
            "desc": "decreased mitotic spindle microtubule depolymerization",
            "group": 8,
            "id": "FYPO:0004650",
            "name": "decreased mitotic spindle microtubule depolymerization"
           },
           {
            "desc": "abnormal microtubule cytoskeleton organization during vegetative growth",
            "group": 8,
            "id": "FYPO:0001350",
            "name": "abnormal microtubule cytoskeleton organization during vegetative growth"
           },
           {
            "desc": "abnormal mitotic spindle midzone assembly",
            "group": 8,
            "id": "FYPO:0003304",
            "name": "abnormal mitotic spindle midzone assembly"
           },
           {
            "desc": "abnormal spindle assembly during meiosis I",
            "group": 8,
            "id": "FYPO:0007745",
            "name": "abnormal spindle assembly during meiosis I"
           },
           {
            "desc": "decreased cytoplasmic microtubule depolymerization at plus end at cell tip",
            "group": 8,
            "id": "FYPO:0007182",
            "name": "decreased cytoplasmic microtubule depolymerization at plus end at cell tip"
           },
           {
            "desc": "decreased microtubule depolymerization at cell side",
            "group": 8,
            "id": "FYPO:0007706",
            "name": "decreased microtubule depolymerization at cell side"
           },
           {
            "desc": "abnormal microtubule nucleation",
            "group": 8,
            "id": "FYPO:0007484",
            "name": "abnormal microtubule nucleation"
           },
           {
            "desc": "abnormal microtubule cytoskeleton organization during meiotic cell cycle",
            "group": 8,
            "id": "FYPO:0007113",
            "name": "abnormal microtubule cytoskeleton organization during meiotic cell cycle"
           },
           {
            "desc": "abolished mitotic spindle disassembly",
            "group": 8,
            "id": "FYPO:0004622",
            "name": "abolished mitotic spindle disassembly"
           },
           {
            "desc": "decreased rate of microtubule depolymerization behind moving spindle pole body",
            "group": 8,
            "id": "FYPO:0004975",
            "name": "decreased rate of microtubule depolymerization behind moving spindle pole body"
           },
           {
            "desc": "abolished mitotic spindle midzone assembly",
            "group": 8,
            "id": "FYPO:0005344",
            "name": "abolished mitotic spindle midzone assembly"
           },
           {
            "desc": "cytoplasmic microtubule formation from nuclear microtubules following spindle microtubule fragmentation",
            "group": 8,
            "id": "FYPO:0004729",
            "name": "cytoplasmic microtubule formation from nuclear microtubules following spindle microtubule fragmentation"
           },
           {
            "desc": "increased rate of microtubule depolymerization during vegetative growth",
            "group": 8,
            "id": "FYPO:0003194",
            "name": "increased rate of microtubule depolymerization during vegetative growth"
           },
           {
            "desc": "abnormal meiotic spindle assembly",
            "group": 8,
            "id": "FYPO:0000737",
            "name": "abnormal meiotic spindle assembly"
           },
           {
            "desc": "abnormal spindle assembly",
            "group": 8,
            "id": "FYPO:0000119",
            "name": "abnormal spindle assembly"
           },
           {
            "desc": "normal spindle elongation during meiotic metaphase I",
            "group": 8,
            "id": "FYPO:0007746",
            "name": "normal spindle elongation during meiotic metaphase I"
           },
           {
            "desc": "abnormal microtubule cytoskeleton organization",
            "group": 8,
            "id": "FYPO:0000054",
            "name": "abnormal microtubule cytoskeleton organization"
           },
           {
            "desc": "increased duration of spindle assembly during meiosis I",
            "group": 8,
            "id": "FYPO:0007748",
            "name": "increased duration of spindle assembly during meiosis I"
           },
           {
            "desc": "abolished mitotic spindle microtubule nucleation from spindle pole body",
            "group": 8,
            "id": "FYPO:0007422",
            "name": "abolished mitotic spindle microtubule nucleation from spindle pole body"
           },
           {
            "desc": "abnormal horsetail-astral microtubule organization",
            "group": 8,
            "id": "FYPO:0007501",
            "name": "abnormal horsetail-astral microtubule organization"
           },
           {
            "desc": "abnormal microtubule nucleation during vegetative growth",
            "group": 8,
            "id": "FYPO:0005692",
            "name": "abnormal microtubule nucleation during vegetative growth"
           },
           {
            "desc": "increased rate of interphase microtubule polymerization",
            "group": 8,
            "id": "FYPO:0004615",
            "name": "increased rate of interphase microtubule polymerization"
           },
           {
            "desc": "abnormal microtubule depolymerization",
            "group": 8,
            "id": "FYPO:0007111",
            "name": "abnormal microtubule depolymerization"
           },
           {
            "desc": "abolished spindle assembly during meiosis I",
            "group": 8,
            "id": "FYPO:0007851",
            "name": "abolished spindle assembly during meiosis I"
           },
           {
            "desc": "decreased mitotic spindle microtubule depolymerization during anaphase A",
            "group": 8,
            "id": "FYPO:0005423",
            "name": "decreased mitotic spindle microtubule depolymerization during anaphase A"
           },
           {
            "desc": "abolished eMTOC assembly",
            "group": 8,
            "id": "FYPO:0004624",
            "name": "abolished eMTOC assembly"
           },
           {
            "desc": "decreased kinetochore microtubule depolymerization during mitotic metaphase chromosome recapture",
            "group": 8,
            "id": "FYPO:0005363",
            "name": "decreased kinetochore microtubule depolymerization during mitotic metaphase chromosome recapture"
           },
           {
            "desc": "abolished microtubule polymerization",
            "group": 8,
            "id": "FYPO:0006067",
            "name": "abolished microtubule polymerization"
           },
           {
            "desc": "abolished microtubule nucleation from eMTOC",
            "group": 8,
            "id": "FYPO:0005698",
            "name": "abolished microtubule nucleation from eMTOC"
           },
           {
            "desc": "abnormal mitotic spindle assembly",
            "group": 8,
            "id": "FYPO:0000177",
            "name": "abnormal mitotic spindle assembly"
           },
           {
            "desc": "abolished cytoplasmic interphase microtubule nucleation from spindle pole body",
            "group": 8,
            "id": "FYPO:0005697",
            "name": "abolished cytoplasmic interphase microtubule nucleation from spindle pole body"
           },
           {
            "desc": "increased rate of microtubule depolymerization ahead of moving spindle pole body",
            "group": 8,
            "id": "FYPO:0004976",
            "name": "increased rate of microtubule depolymerization ahead of moving spindle pole body"
           },
           {
            "desc": "abolished cytoplasmic microtubule nucleation",
            "group": 8,
            "id": "FYPO:0005693",
            "name": "abolished cytoplasmic microtubule nucleation"
           },
           {
            "desc": "abolished astral microtubule nucleation during mitosis",
            "group": 8,
            "id": "FYPO:0005695",
            "name": "abolished astral microtubule nucleation during mitosis"
           },
           {
            "desc": "decreased mitotic microtubule nucleation",
            "group": 8,
            "id": "FYPO:0006336",
            "name": "decreased mitotic microtubule nucleation"
           },
           {
            "desc": "abnormal spindle assembly during meiosis II",
            "group": 8,
            "id": "FYPO:0004510",
            "name": "abnormal spindle assembly during meiosis II"
           },
           {
            "desc": "increased microtubule dwell time at cell tip",
            "group": 8,
            "id": "FYPO:0003417",
            "name": "increased microtubule dwell time at cell tip"
           },
           {
            "desc": "increased microtubule depolymerization at cell side",
            "group": 8,
            "id": "FYPO:0006105",
            "name": "increased microtubule depolymerization at cell side"
           },
           {
            "desc": "decreased rate of microtubule depolymerization during vegetative growth",
            "group": 8,
            "id": "FYPO:0000903",
            "name": "decreased rate of microtubule depolymerization during vegetative growth"
           },
           {
            "desc": "decreased microtubule dwell time at cell tip",
            "group": 8,
            "id": "FYPO:0005799",
            "name": "decreased microtubule dwell time at cell tip"
           }
          ]
         }
        }
       ],
       "description": "A node-link diagram with force-directed layout, depicting character co-occurrence in the novel Les Misérables.",
       "height": 500,
       "marks": [
        {
         "encode": {
          "enter": {
           "fill": {
            "field": "group",
            "scale": "color"
           },
           "stroke": {
            "value": "white"
           }
          },
          "hover": {
           "tooltip": {
            "signal": "{\"id\":datum.id, \"name\":datum.name}"
           }
          },
          "update": {
           "cursor": {
            "value": "pointer"
           },
           "size": {
            "signal": "2 * nodeRadius * nodeRadius"
           }
          }
         },
         "from": {
          "data": "node-data"
         },
         "name": "nodes",
         "on": [
          {
           "modify": "node",
           "trigger": "fix",
           "values": "fix === true ? {fx: node.x, fy: node.y} : {fx: fix[0], fy: fix[1]}"
          },
          {
           "modify": "node",
           "trigger": "!fix",
           "values": "{fx: null, fy: null}"
          }
         ],
         "transform": [
          {
           "forces": [
            {
             "force": "center",
             "x": {
              "signal": "cx"
             },
             "y": {
              "signal": "cy"
             }
            },
            {
             "force": "collide",
             "radius": {
              "signal": "nodeRadius"
             }
            },
            {
             "force": "nbody",
             "strength": {
              "signal": "nodeCharge"
             }
            },
            {
             "distance": {
              "signal": "linkDistance"
             },
             "force": "link",
             "links": "link-data"
            }
           ],
           "iterations": 300,
           "restart": {
            "signal": "restart"
           },
           "signal": "force",
           "static": {
            "signal": "static"
           },
           "type": "force"
          }
         ],
         "type": "symbol",
         "zindex": 1
        },
        {
         "encode": {
          "update": {
           "stroke": {
            "value": "#ccc"
           },
           "strokeWidth": {
            "value": 0.5
           }
          }
         },
         "from": {
          "data": "link-data"
         },
         "interactive": false,
         "transform": [
          {
           "require": {
            "signal": "force"
           },
           "shape": "line",
           "sourceX": "datum.source.x",
           "sourceY": "datum.source.y",
           "targetX": "datum.target.x",
           "targetY": "datum.target.y",
           "type": "linkpath"
          }
         ],
         "type": "path"
        }
       ],
       "padding": 0,
       "scales": [
        {
         "domain": {
          "data": "node-data",
          "field": "group"
         },
         "name": "color",
         "range": {
          "scheme": "category20c"
         },
         "type": "ordinal"
        }
       ],
       "signals": [
        {
         "name": "cx",
         "update": "width / 2"
        },
        {
         "name": "cy",
         "update": "height / 2"
        },
        {
         "bind": {
          "input": "range",
          "max": 50,
          "min": 1,
          "step": 1
         },
         "name": "nodeRadius",
         "value": 8
        },
        {
         "bind": {
          "input": "range",
          "max": 10,
          "min": -100,
          "step": 1
         },
         "name": "nodeCharge",
         "value": -30
        },
        {
         "bind": {
          "input": "range",
          "max": 100,
          "min": 5,
          "step": 1
         },
         "name": "linkDistance",
         "value": 30
        },
        {
         "bind": {
          "input": "checkbox"
         },
         "name": "static",
         "value": true
        },
        {
         "description": "State variable for active node fix status.",
         "name": "fix",
         "on": [
          {
           "events": "symbol:mouseout[!event.buttons], window:mouseup",
           "update": "false"
          },
          {
           "events": "symbol:mouseover",
           "update": "fix || true"
          },
          {
           "events": "[symbol:mousedown, window:mouseup] > window:mousemove!",
           "force": true,
           "update": "xy()"
          }
         ],
         "value": false
        },
        {
         "description": "Graph node most recently interacted with.",
         "name": "node",
         "on": [
          {
           "events": "symbol:mouseover",
           "update": "fix === true ? item() : node"
          }
         ],
         "value": null
        },
        {
         "description": "Flag to restart Force simulation upon data changes.",
         "name": "restart",
         "on": [
          {
           "events": {
            "signal": "fix"
           },
           "update": "fix && fix.length"
          }
         ],
         "value": false
        }
       ],
       "width": 700
      }
     },
     "metadata": {},
     "output_type": "display_data"
    }
   ],
   "source": [
    "import pronto\n",
    "import json\n",
    "import urllib.request\n",
    "\n",
    "fypo = pronto.Ontology('./fypo-base.obo')\n",
    "\n",
    "starting_point  = fypo['FYPO:0000054'].subclasses().to_set()\n",
    "data = {'links': [], 'nodes': []}\n",
    "indexes = {}\n",
    "\n",
    "for i,term in enumerate(starting_point):\n",
    "    indexes[term.id] = i\n",
    "\n",
    "for term in starting_point:\n",
    "    value = {\"id\": term.id, \"name\": term.name, \"desc\": term.name, \"group\":  8}\n",
    "    data['nodes'].append(value)\n",
    "    parents = term.superclasses(with_self=False, distance=1).to_set() & starting_point\n",
    "    for parent in parents:\n",
    "        link = {\"source\": indexes[term.id], \"target\": indexes[parent.id],\"value\":  1}\n",
    "        data['links'].append(link)\n",
    "\n",
    "\n",
    "\n",
    "# Let's use the Vega radial tree example as a basis of the visualization\n",
    "view = json.load(urllib.request.urlopen(\"https://vega.github.io/vega/examples/force-directed-layout.vg.json\"))\n",
    "\n",
    "# First replace the default data with our own\n",
    "view['data'][0].pop('url')\n",
    "view['data'][0]['values'] = data\n",
    "view['data'][1].pop('url')\n",
    "view['data'][1]['values'] = data\n",
    "view['marks'][0]['encode']['hover'] = {}\n",
    "view['marks'][0]['encode']['hover']['tooltip'] = {\"signal\": '{\"id\":datum.id, \"name\":datum.name}'}\n",
    "# view['signals'][4]['value'] = 'cluster'\n",
    "\n",
    "# Render the clustered tree\n",
    "display({\"application/vnd.vega.v5+json\": view}, raw=True)\n"
   ]
  }
 ],
 "metadata": {
  "kernelspec": {
   "display_name": "streamline_obo",
   "language": "python",
   "name": "python3"
  },
  "language_info": {
   "codemirror_mode": {
    "name": "ipython",
    "version": 3
   },
   "file_extension": ".py",
   "mimetype": "text/x-python",
   "name": "python",
   "nbconvert_exporter": "python",
   "pygments_lexer": "ipython3",
   "version": "3.9.7"
  }
 },
 "nbformat": 4,
 "nbformat_minor": 5
}
